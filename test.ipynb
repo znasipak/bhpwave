{
 "cells": [
  {
   "cell_type": "code",
   "execution_count": 1,
   "metadata": {},
   "outputs": [],
   "source": [
    "from bhpwave.spline import CubicSpline, BicubicSpline, TricubicSpline\n",
    "import numpy as np"
   ]
  },
  {
   "cell_type": "code",
   "execution_count": 31,
   "metadata": {},
   "outputs": [],
   "source": [
    "x = np.linspace(0.5, 1, 257)\n",
    "y = np.linspace(-1, 1, 257)\n",
    "z = np.linspace(2, 3, 257)\n",
    "XYZ = np.meshgrid(x, y, z, indexing='ij')"
   ]
  },
  {
   "cell_type": "code",
   "execution_count": 32,
   "metadata": {},
   "outputs": [],
   "source": [
    "def test_func(x, y, z):\n",
    "    return np.sin(x)*np.cos(y)/(1-z**2)"
   ]
  },
  {
   "cell_type": "code",
   "execution_count": 33,
   "metadata": {},
   "outputs": [],
   "source": [
    "fvec = test_func(*XYZ)"
   ]
  },
  {
   "cell_type": "code",
   "execution_count": 34,
   "metadata": {},
   "outputs": [],
   "source": [
    "trispl = TricubicSpline(x, y, z, fvec)"
   ]
  },
  {
   "cell_type": "code",
   "execution_count": 35,
   "metadata": {},
   "outputs": [
    {
     "data": {
      "text/plain": [
       "9.819367541297197e-12"
      ]
     },
     "execution_count": 35,
     "metadata": {},
     "output_type": "execute_result"
    }
   ],
   "source": [
    "1-trispl(0.51, 0.4, 2.4)/test_func(0.51, 0.4, 2.4)"
   ]
  },
  {
   "attachments": {},
   "cell_type": "markdown",
   "metadata": {},
   "source": [
    "# Scratch"
   ]
  },
  {
   "cell_type": "code",
   "execution_count": 6,
   "metadata": {},
   "outputs": [],
   "source": [
    "# test = []\n",
    "# for i in range(x.shape[0]):\n",
    "#     YZ = np.meshgrid(y, z, indexing='ij')\n",
    "#     ftemp = test_func(x[i], *YZ)\n",
    "#     test.append(BicubicSpline(y, z, ftemp))"
   ]
  },
  {
   "cell_type": "code",
   "execution_count": 7,
   "metadata": {},
   "outputs": [],
   "source": [
    "coefftest = np.empty((x.shape[0], y.shape[0], z.shape[0], 4, 4))\n",
    "for i in range(len(test)):\n",
    "    for j in range(y.shape[0]):\n",
    "        for k in range(z.shape[0]):\n",
    "            for iy in range(4):\n",
    "                for iz in range(4):\n",
    "                    coefftest[i, j, k, iy, iz] = test[i].coeff(j, k, iy, iz)\n"
   ]
  },
  {
   "cell_type": "code",
   "execution_count": 8,
   "metadata": {},
   "outputs": [],
   "source": [
    "coefftest2 = np.empty((x.shape[0], y.shape[0], z.shape[0], 4, 4, 4))\n",
    "for j in range(y.shape[0]):\n",
    "    for k in range(z.shape[0]):\n",
    "        for iy in range(4):\n",
    "            for iz in range(4):\n",
    "                spl = CubicSpline(x, coefftest[:, j, k, iy, iz])\n",
    "                for i in range(x.shape[0]):\n",
    "                    for ix in range(4):\n",
    "                        dx = x[1] - x[0]\n",
    "                        coefftest2[i, j, k, ix, iy, iz] = spl.coeff(i, ix)"
   ]
  },
  {
   "cell_type": "code",
   "execution_count": 9,
   "metadata": {},
   "outputs": [],
   "source": [
    "def eval_func(xt, yt, zt):\n",
    "    result = 0\n",
    "    ix = int((xt - x[0])/(x[1] - x[0]))\n",
    "    iy = int((yt - y[0])/(y[1] - y[0]))\n",
    "    iz = int((zt - z[0])/(z[1] - z[0]))\n",
    "    dx = (xt - x[0] - ix*(x[1] - x[0]))/(x[1] - x[0])\n",
    "    dy = (yt - y[0] - iy*(y[1] - y[0]))/(y[1] - y[0])\n",
    "    dz = (zt - z[0] - iz*(z[1] - z[0]))/(z[1] - z[0])\n",
    "    print(ix, iy, iz, dx, dy, dz)\n",
    "    for i in range(4):\n",
    "        for j in range(4):\n",
    "            for k in range(4):\n",
    "                result += coefftest2[ix, iy, iz, i, j, k]*dx**i*dy**j*dz**k\n",
    "    return result"
   ]
  },
  {
   "cell_type": "code",
   "execution_count": 20,
   "metadata": {},
   "outputs": [
    {
     "name": "stdout",
     "output_type": "stream",
     "text": [
      "220 ns ± 5.37 ns per loop (mean ± std. dev. of 7 runs, 1000000 loops each)\n"
     ]
    }
   ],
   "source": [
    "%timeit trispl(0.8, 0.4, 2.4)"
   ]
  },
  {
   "cell_type": "code",
   "execution_count": null,
   "metadata": {},
   "outputs": [],
   "source": []
  }
 ],
 "metadata": {
  "kernelspec": {
   "display_name": "bhpwave-env",
   "language": "python",
   "name": "bhpwave-env"
  },
  "language_info": {
   "codemirror_mode": {
    "name": "ipython",
    "version": 3
   },
   "file_extension": ".py",
   "mimetype": "text/x-python",
   "name": "python",
   "nbconvert_exporter": "python",
   "pygments_lexer": "ipython3",
   "version": "3.9.18"
  },
  "orig_nbformat": 4
 },
 "nbformat": 4,
 "nbformat_minor": 2
}
