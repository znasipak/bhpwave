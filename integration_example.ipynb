{
 "cells": [
  {
   "cell_type": "code",
   "execution_count": 3,
   "metadata": {},
   "outputs": [],
   "source": [
    "from bhpwave.trajectory.inspiral import IntegrateInspiralGeneratorBase\n",
    "from bhpwave.trajectory.inspiral import TrajectoryData, InspiralGenerator\n",
    "from bhpwave.waveform import KerrWaveform\n",
    "import matplotlib.pyplot as plt\n",
    "import numpy as np"
   ]
  },
  {
   "cell_type": "code",
   "execution_count": 4,
   "metadata": {},
   "outputs": [],
   "source": [
    "from bhpwave.trajectory.inspiral import spin_of_chi, omega_of_a_alpha, pn_flux_noprefactor\n",
    "from bhpwave.trajectory.geodesic import kerr_circ_geo_radius, kerr_isco_frequency, kerr_circ_geo_orbital_frequency"
   ]
  },
  {
   "cell_type": "code",
   "execution_count": 5,
   "metadata": {},
   "outputs": [],
   "source": [
    "traj = TrajectoryData()"
   ]
  },
  {
   "cell_type": "code",
   "execution_count": 6,
   "metadata": {},
   "outputs": [],
   "source": [
    "def Edot_test(chi, alpha, R):\n",
    "    a = spin_of_chi(chi)\n",
    "    omega = omega_of_a_alpha(a, alpha)\n",
    "    r0 = kerr_circ_geo_radius(a, omega)\n",
    "    if traj.range_check(a, omega):\n",
    "        return traj.scaled_energy_flux(a, r0)/pn_flux_noprefactor(omega)*(1 - 0.5*R**2)\n",
    "    else:\n",
    "        return 0."
   ]
  },
  {
   "cell_type": "code",
   "execution_count": 7,
   "metadata": {},
   "outputs": [],
   "source": [
    "test_gen = IntegrateInspiralGeneratorBase(Edot_test)"
   ]
  },
  {
   "cell_type": "code",
   "execution_count": 8,
   "metadata": {},
   "outputs": [],
   "source": [
    "kerr_gen_mod = KerrWaveform(trajectory_data=test_gen)"
   ]
  },
  {
   "cell_type": "code",
   "execution_count": 9,
   "metadata": {},
   "outputs": [],
   "source": [
    "kerr_gen_GR = KerrWaveform()"
   ]
  },
  {
   "cell_type": "code",
   "execution_count": 10,
   "metadata": {},
   "outputs": [],
   "source": [
    "M = 1e6  # primary mass in solar masses\n",
    "mu = 3e1 # secondary mass in solar masses\n",
    "a = 0.9 # dimensionless spin of the primary\n",
    "p0 = 6.55 # initial semi-latus rectum\n",
    "e0 = 0.0 # eccentricity is ignored for circular orbits\n",
    "x0 = 1.0  # inclination is ignored for circular orbits\n",
    "qK = 0.8  # polar angle of Kerr spin angular momentum\n",
    "phiK = 0.2  # azimuthal angle of Kerr spin angular momentum\n",
    "qS = 0.3  # polar sky angle\n",
    "phiS = 0.3  # azimuthal sky angle\n",
    "dist = 2.0  # distance to source in Gpc\n",
    "Phi_phi0 = 0.2 # initial azimuthal position of the secondary\n",
    "Phi_theta0 = 0.0 # ignored for circular orbits\n",
    "Phi_r0 = 0.0 # ignored for circular orbits\n",
    "dt = 5.0  # time steps in seconds\n",
    "T = 1.0  # waveform duration in years\n",
    "\n",
    "injection_paramters = [M, mu, a, p0, e0, x0, \n",
    "                       dist, qS, phiS, qK, phiK, \n",
    "                       Phi_phi0, Phi_theta0, Phi_r0, \n",
    "                       dt, T]"
   ]
  },
  {
   "cell_type": "code",
   "execution_count": 25,
   "metadata": {},
   "outputs": [],
   "source": [
    "R = 5e-5\n",
    "h = kerr_gen_mod(*injection_paramters, R)\n",
    "h_GR = kerr_gen_GR(*injection_paramters)"
   ]
  },
  {
   "cell_type": "code",
   "execution_count": 40,
   "metadata": {},
   "outputs": [],
   "source": [
    "from lisatools.diagnostic import inner_product\n",
    "\n",
    "def mismatch_func(h, hGR, dt, freq = None):\n",
    "    h = h[:hGR.shape[0]]\n",
    "    hGR = hGR[:h.shape[0]]\n",
    "    h1 = [h.real, h.imag]\n",
    "    h2 = [hGR.real, hGR.imag]\n",
    "    if freq is None:\n",
    "        freq = np.fft.rfftfreq(h1[0].shape[0], d=dt)[1:]\n",
    "        h1f = np.fft.rfft(h1)[:,1:]*dt\n",
    "        h2f = np.fft.rfft(h2)[:,1:]*dt\n",
    "    else:\n",
    "        h1f = h1\n",
    "        h2f = h2\n",
    "    num = inner_product(h1f, h2f, f_arr=freq, PSD=\"cornish_lisa_psd\")\n",
    "    snr1 = inner_product(h1f, h1f, f_arr=freq, PSD=\"cornish_lisa_psd\")\n",
    "    snr0 = inner_product(h2f, h2f, f_arr=freq, PSD=\"cornish_lisa_psd\")\n",
    "    return 1-num/np.sqrt(snr1*snr0)"
   ]
  },
  {
   "cell_type": "code",
   "execution_count": 29,
   "metadata": {},
   "outputs": [],
   "source": [
    "edotH = np.load(\"data/bhpwave_edot_H.npy\")\n",
    "edotI = np.load(\"data/bhpwave_edot_Infty.npy\")"
   ]
  },
  {
   "cell_type": "code",
   "execution_count": 34,
   "metadata": {},
   "outputs": [],
   "source": [
    "from bhpwave.spline import BicubicSpline"
   ]
  },
  {
   "cell_type": "code",
   "execution_count": 35,
   "metadata": {},
   "outputs": [],
   "source": [
    "def flux_to_norm_spline(Efluxraw):\n",
    "    #reconstruct mesh (from how data was stored)\n",
    "    #remark chi and alpha are functions of a and r\n",
    "    chi_flux_array = np.linspace(0, 1, Efluxraw.shape[0])\n",
    "    alpha_flux_array = np.linspace(0, 1, Efluxraw.shape[1])\n",
    "    ALPHA_FLUX, CHI_FLUX = np.meshgrid(alpha_flux_array, chi_flux_array)\n",
    "    SPIN_FLUX = spin_of_chi(CHI_FLUX)\n",
    "    OMEGA_FLUX = omega_of_a_alpha(SPIN_FLUX, ALPHA_FLUX)\n",
    "\n",
    "    #will want to normalize to PN flux\n",
    "    Efluxraw_norm=Efluxraw/pn_flux_noprefactor(OMEGA_FLUX)\n",
    "    flux_spline = BicubicSpline(chi_flux_array, alpha_flux_array, Efluxraw_norm, bc = 'E(3)')\n",
    "    return flux_spline"
   ]
  },
  {
   "cell_type": "code",
   "execution_count": 36,
   "metadata": {},
   "outputs": [],
   "source": [
    "EdotH = flux_to_norm_spline(edotH)\n",
    "EdotI = flux_to_norm_spline(edotI)"
   ]
  },
  {
   "cell_type": "code",
   "execution_count": 37,
   "metadata": {},
   "outputs": [],
   "source": [
    "def Edot_test(chi, alpha, C):\n",
    "    a = spin_of_chi(chi)\n",
    "    omega = omega_of_a_alpha(a, alpha)\n",
    "    if traj.range_check(a, omega):\n",
    "        return (EdotH(chi, alpha)*(1 - C) + EdotI(chi, alpha))\n",
    "    else:\n",
    "        return 0."
   ]
  },
  {
   "cell_type": "code",
   "execution_count": 38,
   "metadata": {},
   "outputs": [],
   "source": [
    "test_gen = IntegrateInspiralGeneratorBase(Edot_test)\n",
    "kerr_gen_mod = KerrWaveform(trajectory_data=test_gen)\n",
    "kerr_gen_GR = KerrWaveform()"
   ]
  },
  {
   "cell_type": "code",
   "execution_count": 124,
   "metadata": {},
   "outputs": [],
   "source": [
    "M = 1e6  # primary mass in solar masses\n",
    "mu = 3e1 # secondary mass in solar masses\n",
    "a = 0.8 # dimensionless spin of the primary\n",
    "p0 = 10 # initial semi-latus rectum\n",
    "e0 = 0.0 # eccentricity is ignored for circular orbits\n",
    "x0 = 1.0  # inclination is ignored for circular orbits\n",
    "qK = 1.8  # polar angle of Kerr spin angular momentum\n",
    "phiK = 0.2  # azimuthal angle of Kerr spin angular momentum\n",
    "qS = 3.3  # polar sky angle\n",
    "phiS = -0.3  # azimuthal sky angle\n",
    "dist = 2.0  # distance to source in Gpc\n",
    "Phi_phi0 = 0.2 # initial azimuthal position of the secondary\n",
    "Phi_theta0 = 0.0 # ignored for circular orbits\n",
    "Phi_r0 = 0.0 # ignored for circular orbits\n",
    "dt = 10.0  # time steps in seconds\n",
    "T = 1./12  # waveform duration in years\n",
    "\n",
    "injection_paramters = [M, mu, a, p0, e0, x0, \n",
    "                       dist, qS, phiS, qK, phiK, \n",
    "                       Phi_phi0, Phi_theta0, Phi_r0, \n",
    "                       dt, T]\n",
    "\n",
    "injection_paramters_2 = [M, mu, a, p0, e0, x0, \n",
    "                       dist, qS, phiS, qK, phiK, \n",
    "                       Phi_phi0 + 0.1*np.pi, Phi_theta0, Phi_r0, \n",
    "                       dt, T]"
   ]
  },
  {
   "cell_type": "code",
   "execution_count": 139,
   "metadata": {},
   "outputs": [],
   "source": [
    "C = 1e-4\n",
    "h_GR = kerr_gen_mod(*injection_paramters, 0.)"
   ]
  },
  {
   "cell_type": "code",
   "execution_count": 140,
   "metadata": {},
   "outputs": [],
   "source": [
    "def marginalize_mismatch(dphi, T):\n",
    "    injection_paramters_2 = [M, mu, a, p0, e0, x0, \n",
    "                       dist, qS, phiS, qK, phiK, \n",
    "                       Phi_phi0 + dphi, Phi_theta0, Phi_r0, \n",
    "                       dt, T]\n",
    "    \n",
    "    h = kerr_gen_mod(*injection_paramters_2, C)\n",
    "    return mismatch_func(h, h_GR, dt=dt)"
   ]
  },
  {
   "cell_type": "code",
   "execution_count": 141,
   "metadata": {},
   "outputs": [
    {
     "name": "stdout",
     "output_type": "stream",
     "text": [
      "0.08333333333333333\n",
      "0.25\n",
      "0.4166666666666667\n",
      "0.5833333333333334\n",
      "0.75\n",
      "0.9166666666666666\n",
      "1.0833333333333333\n"
     ]
    }
   ],
   "source": [
    "# mismatch_list = []\n",
    "# for T in [1./12., 2./12., 3./12., 4./12., 5./12., 6./12., 7./12., 8./12., 9./12., 10./12., 11./12., 12/12.]:\n",
    "#     print(T)\n",
    "#     injection_paramters = [M, mu, a, p0, e0, x0, \n",
    "#                        dist, qS, phiS, qK, phiK, \n",
    "#                        Phi_phi0, Phi_theta0, Phi_r0, \n",
    "#                        dt, T]\n",
    "#     h_GR = kerr_gen_mod(*injection_paramters, 0.)\n",
    "#     test=[marginalize_mismatch(phi, T) for phi in np.linspace(0, 2.*np.pi, 10)]\n",
    "#     mismatch_list.append(np.min(test))\n",
    "\n",
    "mismatch_list = []\n",
    "for T in [1./12., 3./12., 5./12., 7./12., 9./12., 11./12., 13/12.]:\n",
    "    print(T)\n",
    "    injection_paramters = [M, mu, a, p0, e0, x0, \n",
    "                       dist, qS, phiS, qK, phiK, \n",
    "                       Phi_phi0, Phi_theta0, Phi_r0, \n",
    "                       dt, T]\n",
    "    h_GR = kerr_gen_mod(*injection_paramters, 0.)\n",
    "    test=[marginalize_mismatch(phi, T) for phi in np.linspace(0, 2.*np.pi, 10)]\n",
    "    mismatch_list.append(np.min(test))"
   ]
  },
  {
   "cell_type": "code",
   "execution_count": 142,
   "metadata": {},
   "outputs": [],
   "source": [
    "# Cvals = {}\n",
    "Cvals[C] = mismatch_list"
   ]
  },
  {
   "cell_type": "code",
   "execution_count": 144,
   "metadata": {},
   "outputs": [
    {
     "data": {
      "image/png": "[encoded data removed]",
      "text/plain": [
       "<Figure size 640x480 with 1 Axes>"
      ]
     },
     "metadata": {},
     "output_type": "display_data"
    }
   ],
   "source": [
    "plt.plot(np.arange(1, 14, 2), (Cvals[1e-3]), '.', label = \"$C = 10^{-3}$\")\n",
    "plt.plot(np.arange(1, 14, 2), (Cvals[1e-4]), 'd', label = \"$C = 10^{-4}$\")\n",
    "plt.plot(np.arange(1, 14, 2), (Cvals[1e-5]), 'x', label = \"$C = 10^{-5}$\")\n",
    "plt.plot(np.arange(1, 14, 2), np.arange(1, 14, 2)*0 + 1e-3, 'k--')\n",
    "plt.yscale('log')\n",
    "plt.ylabel('mismatch')\n",
    "plt.xlabel('time (months)')\n",
    "plt.legend()\n",
    "plt.title(\"$(a, \\mu, M) = (0.8, 30 M_\\odot, 10^6 M_\\odot)$\")\n",
    "plt.show()"
   ]
  },
  {
   "cell_type": "code",
   "execution_count": null,
   "metadata": {},
   "outputs": [],
   "source": [
    "# mismatch_list = []\n",
    "# for T in [1./12., 2./12., 3./12., 4./12., 5./12., 6./12., 7./12., 8./12.]:\n",
    "#     print(T)\n",
    "#     injection_paramters = [M, mu, a, p0, e0, x0, \n",
    "#                        dist, qS, phiS, qK, phiK, \n",
    "#                        Phi_phi0, Phi_theta0, Phi_r0, \n",
    "#                        dt, T]\n",
    "#     h_GR = kerr_gen_mod(*injection_paramters, 0.)\n",
    "#     test=[marginalize_mismatch(phi, T) for phi in np.linspace(0, 2.*np.pi, 25)]\n",
    "#     mismatch_list.append(np.min(test))"
   ]
  },
  {
   "cell_type": "code",
   "execution_count": 121,
   "metadata": {},
   "outputs": [],
   "source": [
    "# avals = {}\n",
    "avals[a] = mismatch_list"
   ]
  },
  {
   "cell_type": "code",
   "execution_count": 123,
   "metadata": {},
   "outputs": [
    {
     "data": {
      "image/png": "[encoded data removed]",
      "text/plain": [
       "<Figure size 640x480 with 1 Axes>"
      ]
     },
     "metadata": {},
     "output_type": "display_data"
    }
   ],
   "source": [
    "plt.plot(np.arange(1, 9), (avals[0.3]), '.', label = \"$a = 0.3$\")\n",
    "plt.plot(np.arange(1, 13), (avals[0.998]), 'x', label = \"$a = 0.998$\")\n",
    "plt.yscale('log')\n",
    "plt.ylabel('mismatch')\n",
    "plt.xlabel('time (months)')\n",
    "plt.legend()\n",
    "plt.show()"
   ]
  },
  {
   "cell_type": "code",
   "execution_count": null,
   "metadata": {},
   "outputs": [],
   "source": []
  }
 ],
 "metadata": {
  "kernelspec": {
   "display_name": "full-env",
   "language": "python",
   "name": "python3"
  },
  "language_info": {
   "codemirror_mode": {
    "name": "ipython",
    "version": 3
   },
   "file_extension": ".py",
   "mimetype": "text/x-python",
   "name": "python",
   "nbconvert_exporter": "python",
   "pygments_lexer": "ipython3",
   "version": "3.10.12 | packaged by conda-forge | (main, Jun 23 2023, 22:39:40) [Clang 15.0.7 ]"
  },
  "orig_nbformat": 4,
  "vscode": {
   "interpreter": {
    "hash": "5046dd278bd9b99f2571d1145493fdd695bb04c8c23877305f7d9ebf063c8edf"
   }
  }
 },
 "nbformat": 4,
 "nbformat_minor": 2
}
